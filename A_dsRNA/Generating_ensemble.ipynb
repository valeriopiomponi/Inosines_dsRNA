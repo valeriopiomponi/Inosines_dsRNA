{
 "cells": [
  {
   "cell_type": "markdown",
   "id": "faea6eea",
   "metadata": {},
   "source": [
    "In this notebook, we compute weights for the Adenosines dsRNA"
   ]
  },
  {
   "cell_type": "code",
   "execution_count": 1,
   "id": "dd38e416",
   "metadata": {},
   "outputs": [
    {
     "name": "stderr",
     "output_type": "stream",
     "text": [
      "/u/v/vpiompon/miniconda3/lib/python3.7/site-packages/ipykernel_launcher.py:6: UserWarning: cannot load PLUMED instance, conversions will not be available\n",
      "  \n"
     ]
    },
    {
     "data": {
      "text/plain": [
       "array([[  0.      , 164.676984, 248.927821, ..., 417.507163, 444.555699,\n",
       "        459.841967],\n",
       "       [  0.      , 166.832916, 255.630977, ..., 424.090374, 448.812726,\n",
       "        461.681773],\n",
       "       [  0.      , 161.392065, 245.850346, ..., 406.44488 , 429.657262,\n",
       "        442.205597],\n",
       "       ...,\n",
       "       [  0.      ,  22.860119,  47.462401, ..., 141.588648, 159.969952,\n",
       "        171.721516],\n",
       "       [  0.      ,  18.660064,  41.930317, ..., 137.699716, 156.159215,\n",
       "        167.792121],\n",
       "       [  0.      ,  23.603159,  45.108016, ..., 137.732584, 155.747139,\n",
       "        167.356518]])"
      ]
     },
     "execution_count": 1,
     "metadata": {},
     "output_type": "execute_result"
    }
   ],
   "source": [
    "#files bias$k (\"bias\"+str(k)) are computed by reprocessing the demuxed concateneted trajectory for each replica.\n",
    "#SKIP this cell and load Bias array in the next cell\n",
    "\n",
    "\n",
    "import plumed\n",
    "import numpy as np\n",
    "\n",
    "Bias=[]\n",
    "for k in range(8):\n",
    "    bias=plumed.read_as_pandas(\"bias\"+str(k))\n",
    "    bias[\"sum\"]=bias[\"metad5.bias\"]\n",
    "    for i in ((6,7,8,9,10,11,12,13,14,15,16,25,26,27,28,29,30,31,32,33,34,35,36)):\n",
    "        bias[\"sum\"]+=bias[\"metad\"+str(i)+\".bias\"]\n",
    "    Bias.append(bias[\"sum\"])\n",
    "Bias=np.array(Bias)\n",
    "Bias=np.transpose(Bias)\n",
    "for j in range(8):\n",
    "    Bias[:,j]-=np.min(Bias[:,j])\n",
    "Bias    "
   ]
  },
  {
   "cell_type": "markdown",
   "id": "2b21fe56",
   "metadata": {},
   "source": [
    "Computing weights with binless Weighted Histogram method from bussilab python package "
   ]
  },
  {
   "cell_type": "code",
   "execution_count": 2,
   "id": "82493a97",
   "metadata": {},
   "outputs": [],
   "source": [
    "from importlib.machinery import SourceFileLoader\n",
    "#bl = SourceFileLoader(\"bussilab\",\"/net/sbp/sbpstore1/vpiompon/py-bussilab/bussilab/__init__.py\").load_module()\n",
    "bl = SourceFileLoader(\"bussilab\",\"/u/area/vpiomponi/scratch/py-bussilab/bussilab/__init__.py\").load_module()\n",
    "\n",
    "\n",
    "import numpy as np\n",
    "Bias=np.load('Bias.npy')\n",
    "\n",
    "\n",
    "a =bl.wham.wham(bias=Bias, T=2.494, maxiter=10000)"
   ]
  },
  {
   "cell_type": "code",
   "execution_count": 1,
   "id": "120d14b7",
   "metadata": {},
   "outputs": [
    {
     "ename": "NameError",
     "evalue": "name 'np' is not defined",
     "output_type": "error",
     "traceback": [
      "\u001b[0;31m---------------------------------------------------------------------------\u001b[0m",
      "\u001b[0;31mNameError\u001b[0m                                 Traceback (most recent call last)",
      "Cell \u001b[0;32mIn[1], line 1\u001b[0m\n\u001b[0;32m----> 1\u001b[0m \u001b[43mnp\u001b[49m\u001b[38;5;241m.\u001b[39msave(\u001b[38;5;124m\"\u001b[39m\u001b[38;5;124mwei\u001b[39m\u001b[38;5;124m\"\u001b[39m, np\u001b[38;5;241m.\u001b[39mexp(a\u001b[38;5;241m.\u001b[39mlogW))\n",
      "\u001b[0;31mNameError\u001b[0m: name 'np' is not defined"
     ]
    }
   ],
   "source": [
    "np.save(\"wei\", np.exp(a.logW))"
   ]
  },
  {
   "cell_type": "code",
   "execution_count": null,
   "id": "276b2fc6",
   "metadata": {},
   "outputs": [],
   "source": []
  }
 ],
 "metadata": {
  "kernelspec": {
   "display_name": "Python 3 (ipykernel)",
   "language": "python",
   "name": "python3"
  },
  "language_info": {
   "codemirror_mode": {
    "name": "ipython",
    "version": 3
   },
   "file_extension": ".py",
   "mimetype": "text/x-python",
   "name": "python",
   "nbconvert_exporter": "python",
   "pygments_lexer": "ipython3",
   "version": "3.10.13"
  }
 },
 "nbformat": 4,
 "nbformat_minor": 5
}
