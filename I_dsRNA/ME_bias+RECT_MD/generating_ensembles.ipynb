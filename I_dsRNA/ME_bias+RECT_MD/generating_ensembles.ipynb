{
 "cells": [
  {
   "cell_type": "markdown",
   "id": "9375081e",
   "metadata": {},
   "source": [
    "In this notebook, we compute weights for the Inosines dsRNA simulation which defines 3 different ensembles: MD; MD+NMR; MD+NMR*SAXS. "
   ]
  },
  {
   "cell_type": "code",
   "execution_count": 3,
   "id": "41a24661",
   "metadata": {},
   "outputs": [
    {
     "ename": "ModuleNotFoundError",
     "evalue": "No module named 'plumed'",
     "output_type": "error",
     "traceback": [
      "\u001b[0;31m---------------------------------------------------------------------------\u001b[0m",
      "\u001b[0;31mModuleNotFoundError\u001b[0m                       Traceback (most recent call last)",
      "Cell \u001b[0;32mIn[3], line 3\u001b[0m\n\u001b[1;32m      1\u001b[0m \u001b[38;5;66;03m#files bias$k (\"bias\"+str(k)) are computed by reprocessing the demuxed concateneted trajectory for each replica.\u001b[39;00m\n\u001b[0;32m----> 3\u001b[0m \u001b[38;5;28;01mimport\u001b[39;00m \u001b[38;5;21;01mplumed\u001b[39;00m\n\u001b[1;32m      4\u001b[0m \u001b[38;5;28;01mimport\u001b[39;00m \u001b[38;5;21;01mnumpy\u001b[39;00m \u001b[38;5;28;01mas\u001b[39;00m \u001b[38;5;21;01mnp\u001b[39;00m\n\u001b[1;32m      6\u001b[0m Bias\u001b[38;5;241m=\u001b[39m[]\n",
      "\u001b[0;31mModuleNotFoundError\u001b[0m: No module named 'plumed'"
     ]
    }
   ],
   "source": [
    "#files bias$k (\"bias\"+str(k)) are computed by reprocessing the demuxed concateneted trajectory for each replica.\n",
    "#SKIP this cell and load Bias array in the next cell\n",
    "\n",
    "import plumed\n",
    "import numpy as np\n",
    "\n",
    "Bias=[]\n",
    "for k in range(8):\n",
    "    bias=plumed.read_as_pandas(\"bias\"+str(k))\n",
    "    MEW=plumed.read_as_pandas(\"MEbias\"+str(k))\n",
    "    bias[\"sum\"]=bias[\"metad5.bias\"]\n",
    "    for i in ((6,7,8,9,10,11,12,13,14,15,16,25,26,27,28,29,30,31,32,33,34,35,36)):\n",
    "        bias[\"sum\"]+=bias[\"metad\"+str(i)+\".bias\"]\n",
    "    bias[\"sum\"]+=(MEW[\"JCI9\"]+MEW[\"JCI10\"]+MEW[\"JCU11\"]+MEW[\"JCI12\"]+MEW[\"JCU23\"]+MEW[\"JCU29\"]+MEW[\"JCI30\"]+MEW[\"JCU31\"]+MEW[\"JCU32\"])\n",
    "    Bias.append(bias[\"sum\"])\n",
    "Bias=np.array(Bias)\n",
    "Bias=np.transpose(Bias)\n",
    "for j in range(8):\n",
    "    Bias[:,j]-=np.min(Bias[:,j])\n",
    "Bias "
   ]
  },
  {
   "cell_type": "code",
   "execution_count": 12,
   "id": "ee9d7260",
   "metadata": {},
   "outputs": [],
   "source": [
    "from importlib.machinery import SourceFileLoader\n",
    "#bl = SourceFileLoader(\"bussilab\",\"/net/sbp/sbpstore1/vpiompon/py-bussilab/bussilab/__init__.py\").load_module()\n",
    "bl = SourceFileLoader(\"bussilab\",\"/u/area/vpiomponi/scratch/py-bussilab/bussilab/__init__.py\").load_module()\n",
    "\n",
    "\n",
    "import numpy as np\n",
    "Bias=np.load('Bias.npy')\n",
    "\n",
    "\n",
    "a =bl.wham.wham(bias=Bias, T=2.494, maxiter=10000)"
   ]
  },
  {
   "cell_type": "markdown",
   "id": "3c7103eb",
   "metadata": {},
   "source": [
    "Back-calculate J-couplings from the trajecotry using Barnaba python package. Davies parameters for the J_H1H2 must be implemented directly in the barnaba code (Condon parameters are the default values).\n",
    "\n",
    "The demuxed concatenated trajecotry was divided in 5 parts here in orfer to allow loading\n",
    "\n",
    "Skip to next cell to load directly J_H1H2 computed from the trajectory."
   ]
  },
  {
   "cell_type": "code",
   "execution_count": 9,
   "id": "346d2d85",
   "metadata": {},
   "outputs": [
    {
     "ename": "FileNotFoundError",
     "evalue": "[Errno 2] No such file or directory: '/net/sbp/sbpstore1/vpiompon/barnaba/barnaba/__init__.py'",
     "output_type": "error",
     "traceback": [
      "\u001b[0;31m---------------------------------------------------------------------------\u001b[0m",
      "\u001b[0;31mFileNotFoundError\u001b[0m                         Traceback (most recent call last)",
      "Cell \u001b[0;32mIn[9], line 2\u001b[0m\n\u001b[1;32m      1\u001b[0m \u001b[38;5;28;01mfrom\u001b[39;00m \u001b[38;5;21;01mimportlib\u001b[39;00m\u001b[38;5;21;01m.\u001b[39;00m\u001b[38;5;21;01mmachinery\u001b[39;00m \u001b[38;5;28;01mimport\u001b[39;00m SourceFileLoader\n\u001b[0;32m----> 2\u001b[0m bb \u001b[38;5;241m=\u001b[39m \u001b[43mSourceFileLoader\u001b[49m\u001b[43m(\u001b[49m\u001b[38;5;124;43m\"\u001b[39;49m\u001b[38;5;124;43mbarnbaba\u001b[39;49m\u001b[38;5;124;43m\"\u001b[39;49m\u001b[43m,\u001b[49m\u001b[38;5;124;43m\"\u001b[39;49m\u001b[38;5;124;43m/net/sbp/sbpstore1/vpiompon/barnaba/barnaba/__init__.py\u001b[39;49m\u001b[38;5;124;43m\"\u001b[39;49m\u001b[43m)\u001b[49m\u001b[38;5;241;43m.\u001b[39;49m\u001b[43mload_module\u001b[49m\u001b[43m(\u001b[49m\u001b[43m)\u001b[49m\n\u001b[1;32m      3\u001b[0m bb\n\u001b[1;32m      7\u001b[0m top \u001b[38;5;241m=\u001b[39m \u001b[38;5;124m\"\u001b[39m\u001b[38;5;124mrna_ions.pdb\u001b[39m\u001b[38;5;124m\"\u001b[39m\n",
      "File \u001b[0;32m<frozen importlib._bootstrap_external>:548\u001b[0m, in \u001b[0;36m_check_name_wrapper\u001b[0;34m(self, name, *args, **kwargs)\u001b[0m\n",
      "File \u001b[0;32m<frozen importlib._bootstrap_external>:1063\u001b[0m, in \u001b[0;36mload_module\u001b[0;34m(self, fullname)\u001b[0m\n",
      "File \u001b[0;32m<frozen importlib._bootstrap_external>:888\u001b[0m, in \u001b[0;36mload_module\u001b[0;34m(self, fullname)\u001b[0m\n",
      "File \u001b[0;32m<frozen importlib._bootstrap>:290\u001b[0m, in \u001b[0;36m_load_module_shim\u001b[0;34m(self, fullname)\u001b[0m\n",
      "File \u001b[0;32m<frozen importlib._bootstrap>:719\u001b[0m, in \u001b[0;36m_load\u001b[0;34m(spec)\u001b[0m\n",
      "File \u001b[0;32m<frozen importlib._bootstrap>:688\u001b[0m, in \u001b[0;36m_load_unlocked\u001b[0;34m(spec)\u001b[0m\n",
      "File \u001b[0;32m<frozen importlib._bootstrap_external>:879\u001b[0m, in \u001b[0;36mexec_module\u001b[0;34m(self, module)\u001b[0m\n",
      "File \u001b[0;32m<frozen importlib._bootstrap_external>:1016\u001b[0m, in \u001b[0;36mget_code\u001b[0;34m(self, fullname)\u001b[0m\n",
      "File \u001b[0;32m<frozen importlib._bootstrap_external>:1073\u001b[0m, in \u001b[0;36mget_data\u001b[0;34m(self, path)\u001b[0m\n",
      "\u001b[0;31mFileNotFoundError\u001b[0m: [Errno 2] No such file or directory: '/net/sbp/sbpstore1/vpiompon/barnaba/barnaba/__init__.py'"
     ]
    }
   ],
   "source": [
    "from importlib.machinery import SourceFileLoader\n",
    "bb = SourceFileLoader(\"barnbaba\",\"/net/sbp/sbpstore1/vpiompon/barnaba/barnaba/__init__.py\").load_module()\n",
    "bb\n",
    "\n",
    "\n",
    "\n",
    "top = \"rna_ions.pdb\"\n",
    "list=[]\n",
    " \n",
    "list_couplings=[]\n",
    "for k in (0,1,2,3,4,5,6,7):\n",
    "# define trajectory and topology files\n",
    "    traj = \"traj_\"+str(k)+\"_a.xtc\"\n",
    "    couplings,rr = bb.jcouplings(traj,topology=top, residues=['I_9_0','I_10_0','U_11_0','I_12_0','U_23_0','U_29_0','I_30_0','U_31_0','U_32_0'],couplings=['H1H2'])\n",
    "    list_couplings.append(couplings[:-1])\n",
    "    traj = \"traj_\"+str(k)+\"_b.xtc\"\n",
    "    couplings,rr = bb.jcouplings(traj,topology=top, residues=['I_9_0','I_10_0','U_11_0','I_12_0','U_23_0','U_29_0','I_30_0','U_31_0','U_32_0'],couplings=['H1H2'])\n",
    "    list_couplings.append(couplings[:-1])\n",
    "    traj = \"traj_\"+str(k)+\"_c.xtc\"\n",
    "    couplings,rr = bb.jcouplings(traj,topology=top, residues=['I_9_0','I_10_0','U_11_0','I_12_0','U_23_0','U_29_0','I_30_0','U_31_0','U_32_0'],couplings=['H1H2'])\n",
    "    list_couplings.append(couplings[:-1])\n",
    "    traj = \"traj_\"+str(k)+\"_d.xtc\"\n",
    "    couplings,rr = bb.jcouplings(traj,topology=top, residues=['I_9_0','I_10_0','U_11_0','I_12_0','U_23_0','U_29_0','I_30_0','U_31_0','U_32_0'],couplings=['H1H2'])\n",
    "    list_couplings.append(couplings[:-1])\n",
    "    traj = \"traj_\"+str(k)+\"_e.xtc\"\n",
    "    couplings,rr = bb.jcouplings(traj,topology=top, residues=['I_9_0','I_10_0','U_11_0','I_12_0','U_23_0','U_29_0','I_30_0','U_31_0','U_32_0'],couplings=['H1H2'])\n",
    "    list_couplings.append(couplings)\n",
    "        \n",
    "        \n",
    "    \n",
    "list_couplings=np.concatenate((list_couplings[0],list_couplings[1]))\n",
    "np.save('Davies_couplings.npy', list_couplings)"
   ]
  },
  {
   "cell_type": "code",
   "execution_count": 13,
   "id": "caeba9e1",
   "metadata": {},
   "outputs": [],
   "source": [
    "list_couplings=np.load('Davies_couplings.npy')\n",
    "Exp=[0.84,4.624,5.52,2.71,0.834,1.568,5.752,5.056,5.136,1.95**2]"
   ]
  },
  {
   "cell_type": "markdown",
   "id": "7ff4e300",
   "metadata": {},
   "source": [
    "MD+NMR ensemble"
   ]
  },
  {
   "cell_type": "code",
   "execution_count": 14,
   "id": "510b94b5",
   "metadata": {},
   "outputs": [],
   "source": [
    "b=bl.maxent.maxent(traj=np.array(list_couplings).reshape(-1,9), reference=Exp[0:9], logW=a.logW)"
   ]
  },
  {
   "cell_type": "code",
   "execution_count": 17,
   "id": "4a6958b7",
   "metadata": {},
   "outputs": [],
   "source": [
    "nw=np.exp(-np.sum(((list_couplings).reshape(-1,9)*b.lambdas),axis=1))\n",
    "np.save(\"MD_ensemble/wei.npy\",np.exp(a.logW))\n",
    "np.save(\"MD+NMR_ensemble/wei.npy\",np.exp(a.logW)*nw)"
   ]
  },
  {
   "cell_type": "markdown",
   "id": "93f19393",
   "metadata": {},
   "source": [
    "MD+NMR+SAXS ensemble"
   ]
  },
  {
   "cell_type": "code",
   "execution_count": 21,
   "id": "67d48983",
   "metadata": {},
   "outputs": [
    {
     "data": {
      "text/plain": [
       "(2800008,)"
      ]
     },
     "execution_count": 21,
     "metadata": {},
     "output_type": "execute_result"
    }
   ],
   "source": [
    "rG=np.loadtxt(\"rg_file.xtx\")[:,1]\n",
    "np.shape(np.array(rG))"
   ]
  },
  {
   "cell_type": "code",
   "execution_count": 23,
   "id": "102ca175",
   "metadata": {},
   "outputs": [],
   "source": [
    "traj_values=np.concatenate((np.array(list_couplings).reshape(-1,9),np.square(np.array(rG))[:,np.newaxis]),axis=1)"
   ]
  },
  {
   "cell_type": "code",
   "execution_count": 24,
   "id": "d93bc7e4",
   "metadata": {},
   "outputs": [],
   "source": [
    "from bussilab import maxent\n",
    "\n",
    "b=maxent.maxent(traj=traj_values, reference=Exp, logW=a.logW)\n",
    "nw=np.exp(-np.sum(((traj_values).reshape(-1,10)*b.lambdas),axis=1))\n"
   ]
  },
  {
   "cell_type": "code",
   "execution_count": 25,
   "id": "0f6eb031",
   "metadata": {},
   "outputs": [],
   "source": [
    "np.save(\"MD+NMR+SAXS_ensemble/wei.npy\",np.exp(a.logW)*nw)"
   ]
  },
  {
   "cell_type": "code",
   "execution_count": null,
   "id": "125e3a8c",
   "metadata": {},
   "outputs": [],
   "source": []
  }
 ],
 "metadata": {
  "kernelspec": {
   "display_name": "Python 3 (ipykernel)",
   "language": "python",
   "name": "python3"
  },
  "language_info": {
   "codemirror_mode": {
    "name": "ipython",
    "version": 3
   },
   "file_extension": ".py",
   "mimetype": "text/x-python",
   "name": "python",
   "nbconvert_exporter": "python",
   "pygments_lexer": "ipython3",
   "version": "3.10.13"
  }
 },
 "nbformat": 4,
 "nbformat_minor": 5
}
